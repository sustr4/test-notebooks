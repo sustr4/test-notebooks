{
 "cells": [
  {
   "cell_type": "markdown",
   "id": "80d708c4-e6f2-4db3-859e-608aa0eef0e0",
   "metadata": {},
   "source": [
    "# Access Token\n",
    "A **valid, up-to date** access token is available to the current notebook user, so that they may use it to access additional services in the EOSC ecosystem. Let's begin with loading necessary preprequesites"
   ]
  },
  {
   "cell_type": "code",
   "execution_count": null,
   "id": "19cdb80e-50de-47e4-87a9-312d74863db0",
   "metadata": {
    "tags": []
   },
   "outputs": [],
   "source": [
    "import requests   # HTTP Requests library\n",
    "import json       # JSON parsing/emitting library\n",
    "import ipywidgets # Interactive components"
   ]
  },
  {
   "cell_type": "markdown",
   "id": "6c659c9e-4f66-45b0-89f8-86374ceaa7e5",
   "metadata": {},
   "source": [
    "## 1. Read and Display the Token\n",
    "We can read the token from file, and check just a few characters. Note how we never store the token into a string variable. The file gets repeatedly refreshed with a new, valid token, while the variable contents will get stale eventually."
   ]
  },
  {
   "cell_type": "code",
   "execution_count": null,
   "id": "04e03191-5b91-4909-ab7a-8fc645d65538",
   "metadata": {
    "tags": []
   },
   "outputs": [],
   "source": [
    "def printtoken(onlyfirst):\n",
    "    print(\"The token starts like this: \"+open('/var/run/secrets/oidc/access_token').read()[0:onlyfirst]+\"... (\"+str(len(open('/var/run/secrets/oidc/access_token').read())-onlyfirst)+\" more characters)\")\n",
    "ipywidgets.interact(printtoken, onlyfirst=ipywidgets.IntSlider(description='Only first', min=16, max=1482, step=16, value=16));\n"
   ]
  },
  {
   "cell_type": "markdown",
   "id": "133a5e62-3adf-4733-918e-a8b44f6acdfd",
   "metadata": {},
   "source": [
    "## 2. Obtaining User Info\n",
    "Now let's try contacting the _userinfo_ endpoint. If we get code 200, it worked. Any code from the 400 family means a problem."
   ]
  },
  {
   "cell_type": "code",
   "execution_count": null,
   "id": "ec95fba5-f9f1-4725-8708-f86efc15b337",
   "metadata": {
    "tags": []
   },
   "outputs": [],
   "source": [
    "uir = requests.get(\" https://proxy.staging.eosc-federation.eu/OIDC/userinfo\", headers={\"authorization\": \"Bearer {}\".format(open('/var/run/secrets/oidc/access_token').read())}, stream=True)\n",
    "print(uir)"
   ]
  },
  {
   "cell_type": "markdown",
   "id": "75096b4c-3963-44f6-85f3-e3b5b5273486",
   "metadata": {},
   "source": [
    "### 2.1 Print Entitlements\n",
    "From the HTTP response, let us print the content of the `entitlements` tag (only that, for brevity)."
   ]
  },
  {
   "cell_type": "code",
   "execution_count": null,
   "id": "b7781bc0-806c-4333-9b68-250ce4375b43",
   "metadata": {
    "tags": []
   },
   "outputs": [],
   "source": [
    "print(json.dumps(json.loads(uir.content)[\"entitlements\"], indent=2))"
   ]
  },
  {
   "cell_type": "markdown",
   "id": "bec282d5-a8df-4686-b126-d47b4447d31c",
   "metadata": {},
   "source": [
    "## 3 Listing Servers in a Hub\n",
    "Another service we can access is the Interactive Notebooks Hub API. There are multiple instances available, so we may choose which one to contact, **bearing in mind that not all recognize our current identity provider**. The following drop-box gives us the choices.\n",
    "\n",
    "The following code will retrieve the status from the selected notebooks Hub, and list the `servers` array."
   ]
  },
  {
   "cell_type": "code",
   "execution_count": null,
   "id": "88a442ce-49db-4330-a977-fb93407cf44c",
   "metadata": {
    "tags": []
   },
   "outputs": [],
   "source": [
    "def hublist(hub):\n",
    "    hubres = requests.get(\"https://\"+hub+\"/services/jwt/user\",\n",
    "                 headers={\"Authorization\": \"Bearer {}\".format(open('/var/run/secrets/oidc/access_token').read())}, stream=True)\n",
    "    print(json.dumps(hubres.json()['servers'], indent=2))\n",
    "ipywidgets.interact(hublist, hub=ipywidgets.Dropdown(options= [\"notebooks-tst.cloud.cesnet.cz\", \"notebooks-stg1.cloud.cesnet.cz\", \"notebooks-stg2.cloud.cesnet.cz\", \"eu-1.notebooks.open-science-cloud-user-apps.eu\", \"eu-2.notebooks.open-science-cloud-user-apps.eu\"], description='Endpoint:', value=\"notebooks-stg1.cloud.cesnet.cz\"));"
   ]
  },
  {
   "cell_type": "markdown",
   "id": "c8b3fa1e-8dd1-4a44-b6e8-180204772049",
   "metadata": {},
   "source": [
    "## 4. Conclusion\n",
    "we have succesfully used the injected token to authenticate to Web-based services, to, e.g., obtain the attributes for our identity, or to check out active resources in the Interactive Notebooks Hub."
   ]
  },
  {
   "cell_type": "code",
   "execution_count": null,
   "id": "44a8144a-38c9-4d87-a2b7-f4b38bb69c1b",
   "metadata": {},
   "outputs": [],
   "source": []
  }
 ],
 "metadata": {
  "kernelspec": {
   "display_name": "Python 3 (ipykernel)",
   "language": "python",
   "name": "python3"
  },
  "language_info": {
   "codemirror_mode": {
    "name": "ipython",
    "version": 3
   },
   "file_extension": ".py",
   "mimetype": "text/x-python",
   "name": "python",
   "nbconvert_exporter": "python",
   "pygments_lexer": "ipython3",
   "version": "3.11.9"
  }
 },
 "nbformat": 4,
 "nbformat_minor": 5
}
