{
 "cells": [
  {
   "cell_type": "code",
   "execution_count": null,
   "id": "9f43125d-a15b-4637-b4de-bda74aba460f",
   "metadata": {},
   "outputs": [],
   "source": [
    "[u, v] = meshgrid(linspace(0, 2*pi, 60), linspace(-5, 5, 60));\n",
    "a=2;\n",
    "x=a*cos(u).*cosh(v/a);\n",
    "y=a*sin(u).*cosh(v/a);\n",
    "z=v;\n",
    "surf(x, y, z)"
   ]
  },
  {
   "cell_type": "code",
   "execution_count": null,
   "id": "aaa2dfe9-7725-435e-ac31-7f989311653c",
   "metadata": {},
   "outputs": [],
   "source": []
  }
 ],
 "metadata": {
  "kernelspec": {
   "display_name": "Octave",
   "language": "octave",
   "name": "octave"
  },
  "language_info": {
   "file_extension": ".m",
   "help_links": [
    {
     "text": "GNU Octave",
     "url": "https://www.gnu.org/software/octave/support.html"
    },
    {
     "text": "Octave Kernel",
     "url": "https://github.com/Calysto/octave_kernel"
    },
    {
     "text": "MetaKernel Magics",
     "url": "https://metakernel.readthedocs.io/en/latest/source/README.html"
    }
   ],
   "mimetype": "text/x-octave",
   "name": "octave",
   "version": "6.4.0"
  }
 },
 "nbformat": 4,
 "nbformat_minor": 5
}
